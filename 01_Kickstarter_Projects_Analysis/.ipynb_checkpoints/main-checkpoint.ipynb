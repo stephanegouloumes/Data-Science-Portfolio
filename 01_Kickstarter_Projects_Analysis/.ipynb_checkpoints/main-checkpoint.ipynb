{
 "cells": [
  {
   "cell_type": "markdown",
   "metadata": {},
   "source": [
    "# Kickstarter Projects Analysis\n",
    "\n",
    "What can we infer about the success of projects on the Kickstarter Platform ?\n",
    "\n",
    "Ideas :\n",
    "* Analyze the project's category, country origin, price, launch date\n",
    "* Find the key factors of success\n",
    "* Predict the sucess rate of a project depending on these features"
   ]
  },
  {
   "cell_type": "code",
   "execution_count": 2,
   "metadata": {
    "collapsed": true
   },
   "outputs": [],
   "source": [
    "import pandas as pd\n",
    "import numpy as np\n",
    "import matplotlib.pyplot as plt\n",
    "%matplotlib inline"
   ]
  },
  {
   "cell_type": "code",
   "execution_count": 3,
   "metadata": {},
   "outputs": [
    {
     "data": {
      "text/html": [
       "<div>\n",
       "<style>\n",
       "    .dataframe thead tr:only-child th {\n",
       "        text-align: right;\n",
       "    }\n",
       "\n",
       "    .dataframe thead th {\n",
       "        text-align: left;\n",
       "    }\n",
       "\n",
       "    .dataframe tbody tr th {\n",
       "        vertical-align: top;\n",
       "    }\n",
       "</style>\n",
       "<table border=\"1\" class=\"dataframe\">\n",
       "  <thead>\n",
       "    <tr style=\"text-align: right;\">\n",
       "      <th></th>\n",
       "      <th>ID</th>\n",
       "      <th>name</th>\n",
       "      <th>category</th>\n",
       "      <th>main_category</th>\n",
       "      <th>currency</th>\n",
       "      <th>deadline</th>\n",
       "      <th>goal</th>\n",
       "      <th>launched</th>\n",
       "      <th>pledged</th>\n",
       "      <th>state</th>\n",
       "      <th>backers</th>\n",
       "      <th>country</th>\n",
       "      <th>usd pledged</th>\n",
       "      <th>usd_pledged_real</th>\n",
       "    </tr>\n",
       "  </thead>\n",
       "  <tbody>\n",
       "    <tr>\n",
       "      <th>0</th>\n",
       "      <td>1000002330</td>\n",
       "      <td>The Songs of Adelaide &amp; Abullah</td>\n",
       "      <td>Poetry</td>\n",
       "      <td>Publishing</td>\n",
       "      <td>GBP</td>\n",
       "      <td>2015-10-09</td>\n",
       "      <td>1000.0</td>\n",
       "      <td>2015-08-11 12:12:28</td>\n",
       "      <td>0.0</td>\n",
       "      <td>failed</td>\n",
       "      <td>0</td>\n",
       "      <td>GB</td>\n",
       "      <td>0.0</td>\n",
       "      <td>0.0</td>\n",
       "    </tr>\n",
       "    <tr>\n",
       "      <th>1</th>\n",
       "      <td>1000003930</td>\n",
       "      <td>Greeting From Earth: ZGAC Arts Capsule For ET</td>\n",
       "      <td>Narrative Film</td>\n",
       "      <td>Film &amp; Video</td>\n",
       "      <td>USD</td>\n",
       "      <td>2017-11-01</td>\n",
       "      <td>30000.0</td>\n",
       "      <td>2017-09-02 04:43:57</td>\n",
       "      <td>2421.0</td>\n",
       "      <td>failed</td>\n",
       "      <td>15</td>\n",
       "      <td>US</td>\n",
       "      <td>100.0</td>\n",
       "      <td>2421.0</td>\n",
       "    </tr>\n",
       "    <tr>\n",
       "      <th>2</th>\n",
       "      <td>1000004038</td>\n",
       "      <td>Where is Hank?</td>\n",
       "      <td>Narrative Film</td>\n",
       "      <td>Film &amp; Video</td>\n",
       "      <td>USD</td>\n",
       "      <td>2013-02-26</td>\n",
       "      <td>45000.0</td>\n",
       "      <td>2013-01-12 00:20:50</td>\n",
       "      <td>220.0</td>\n",
       "      <td>failed</td>\n",
       "      <td>3</td>\n",
       "      <td>US</td>\n",
       "      <td>220.0</td>\n",
       "      <td>220.0</td>\n",
       "    </tr>\n",
       "    <tr>\n",
       "      <th>3</th>\n",
       "      <td>1000007540</td>\n",
       "      <td>ToshiCapital Rekordz Needs Help to Complete Album</td>\n",
       "      <td>Music</td>\n",
       "      <td>Music</td>\n",
       "      <td>USD</td>\n",
       "      <td>2012-04-16</td>\n",
       "      <td>5000.0</td>\n",
       "      <td>2012-03-17 03:24:11</td>\n",
       "      <td>1.0</td>\n",
       "      <td>failed</td>\n",
       "      <td>1</td>\n",
       "      <td>US</td>\n",
       "      <td>1.0</td>\n",
       "      <td>1.0</td>\n",
       "    </tr>\n",
       "    <tr>\n",
       "      <th>4</th>\n",
       "      <td>1000011046</td>\n",
       "      <td>Community Film Project: The Art of Neighborhoo...</td>\n",
       "      <td>Film &amp; Video</td>\n",
       "      <td>Film &amp; Video</td>\n",
       "      <td>USD</td>\n",
       "      <td>2015-08-29</td>\n",
       "      <td>19500.0</td>\n",
       "      <td>2015-07-04 08:35:03</td>\n",
       "      <td>1283.0</td>\n",
       "      <td>canceled</td>\n",
       "      <td>14</td>\n",
       "      <td>US</td>\n",
       "      <td>1283.0</td>\n",
       "      <td>1283.0</td>\n",
       "    </tr>\n",
       "  </tbody>\n",
       "</table>\n",
       "</div>"
      ],
      "text/plain": [
       "           ID                                               name  \\\n",
       "0  1000002330                    The Songs of Adelaide & Abullah   \n",
       "1  1000003930      Greeting From Earth: ZGAC Arts Capsule For ET   \n",
       "2  1000004038                                     Where is Hank?   \n",
       "3  1000007540  ToshiCapital Rekordz Needs Help to Complete Album   \n",
       "4  1000011046  Community Film Project: The Art of Neighborhoo...   \n",
       "\n",
       "         category main_category currency    deadline     goal  \\\n",
       "0          Poetry    Publishing      GBP  2015-10-09   1000.0   \n",
       "1  Narrative Film  Film & Video      USD  2017-11-01  30000.0   \n",
       "2  Narrative Film  Film & Video      USD  2013-02-26  45000.0   \n",
       "3           Music         Music      USD  2012-04-16   5000.0   \n",
       "4    Film & Video  Film & Video      USD  2015-08-29  19500.0   \n",
       "\n",
       "              launched  pledged     state  backers country  usd pledged  \\\n",
       "0  2015-08-11 12:12:28      0.0    failed        0      GB          0.0   \n",
       "1  2017-09-02 04:43:57   2421.0    failed       15      US        100.0   \n",
       "2  2013-01-12 00:20:50    220.0    failed        3      US        220.0   \n",
       "3  2012-03-17 03:24:11      1.0    failed        1      US          1.0   \n",
       "4  2015-07-04 08:35:03   1283.0  canceled       14      US       1283.0   \n",
       "\n",
       "   usd_pledged_real  \n",
       "0               0.0  \n",
       "1            2421.0  \n",
       "2             220.0  \n",
       "3               1.0  \n",
       "4            1283.0  "
      ]
     },
     "execution_count": 3,
     "metadata": {},
     "output_type": "execute_result"
    }
   ],
   "source": [
    "ks = pd.read_csv(\"data/ks-projects-201801.csv\", encoding='cp1252')\n",
    "ks.head()"
   ]
  },
  {
   "cell_type": "markdown",
   "metadata": {},
   "source": [
    "## Exploratory Data Analysis\n",
    "\n",
    "### Analysis of the target variable\n",
    "\n",
    "The success of a project is indicated in this dataset by the state column.\n",
    "This column has 6 distinct categories :\n",
    "* failed\n",
    "* successful\n",
    "* canceled\n",
    "* undefined\n",
    "* live\n",
    "* suspended\n",
    "\n",
    "First, we are going to do an analysis of this variable."
   ]
  },
  {
   "cell_type": "code",
   "execution_count": 4,
   "metadata": {},
   "outputs": [
    {
     "data": {
      "text/plain": [
       "failed        197719\n",
       "successful    133956\n",
       "canceled       38779\n",
       "undefined       3562\n",
       "live            2799\n",
       "suspended       1846\n",
       "Name: state, dtype: int64"
      ]
     },
     "execution_count": 4,
     "metadata": {},
     "output_type": "execute_result"
    }
   ],
   "source": [
    "ks[\"state\"].value_counts()"
   ]
  },
  {
   "cell_type": "markdown",
   "metadata": {},
   "source": [
    "Two of the six categories represent 88% of our dataset.\n",
    "\n",
    "The canceled and suspended categories can be considered as failed projects.\n",
    "The live category concerns the ongoing projects, we can't use them because they're not finished yet.\n",
    "Finally, the undefined category doesn't help us too.\n",
    "\n",
    "We can replace all the canceled and suspended values as failed value and delete the others categories."
   ]
  },
  {
   "cell_type": "code",
   "execution_count": 5,
   "metadata": {},
   "outputs": [
    {
     "data": {
      "text/plain": [
       "failed        236498\n",
       "successful    133956\n",
       "Name: state, dtype: int64"
      ]
     },
     "execution_count": 5,
     "metadata": {},
     "output_type": "execute_result"
    }
   ],
   "source": [
    "ks[\"state\"] = ks[\"state\"].replace(\"canceled\", \"failed\")\n",
    "\n",
    "ks = ks[(ks[\"state\"] == \"failed\") | (ks[\"state\"] == \"successful\")]\n",
    "\n",
    "ks[\"state\"].value_counts()"
   ]
  },
  {
   "cell_type": "markdown",
   "metadata": {
    "collapsed": true
   },
   "source": [
    "### Multivariate Analysis\n",
    "\n",
    "#### Successful projects by category"
   ]
  },
  {
   "cell_type": "code",
   "execution_count": 69,
   "metadata": {},
   "outputs": [
    {
     "data": {
      "image/png": "[encoded data removed]",
      "text/plain": [
       "<matplotlib.figure.Figure at 0x1eeeb387748>"
      ]
     },
     "metadata": {},
     "output_type": "display_data"
    }
   ],
   "source": [
    "successful_by_category = ks[ks[\"state\"] == \"successful\"][\"category\"].value_counts() / ks[\"category\"].value_counts() * 100\n",
    "successful_by_category = successful_by_category.sort_values(ascending=False)[:7]\n",
    "\n",
    "N = len(successful_by_category)\n",
    "ind = np.arange(N)\n",
    "\n",
    "plt.bar(ind, successful_by_category)\n",
    "plt.xticks(ind, successful_by_category.index, size=7)\n",
    "plt.title(\"Success rate by category\")\n",
    "plt.show()"
   ]
  },
  {
   "cell_type": "markdown",
   "metadata": {},
   "source": [
    "Arts and performances seem to be the most successful projects.\n",
    "\n",
    "#### Number of projects by year"
   ]
  },
  {
   "cell_type": "code",
   "execution_count": 80,
   "metadata": {},
   "outputs": [
    {
     "data": {
      "image/png": "[encoded data removed]",
      "text/plain": [
       "<matplotlib.figure.Figure at 0x1eeec9dd438>"
      ]
     },
     "metadata": {},
     "output_type": "display_data"
    }
   ],
   "source": [
    "ks[\"year\"] = ks[\"launched\"].str[:4]\n",
    "projects_by_year = ks[\"year\"].value_counts().sort_index()\n",
    "projects_by_year = projects_by_year.drop([\"1970\", \"2018\"], axis=0)\n",
    "\n",
    "N = len(projects_by_year)\n",
    "ind = np.arange(N)\n",
    "\n",
    "plt.bar(ind, projects_by_year)\n",
    "plt.xticks(ind, projects_by_year.index)\n",
    "plt.title(\"Number of projects by year\")\n",
    "plt.show()"
   ]
  },
  {
   "cell_type": "markdown",
   "metadata": {},
   "source": [
    "#### Successful projects by year"
   ]
  },
  {
   "cell_type": "code",
   "execution_count": 87,
   "metadata": {},
   "outputs": [
    {
     "data": {
      "image/png": "[encoded data removed]",
      "text/plain": [
       "<matplotlib.figure.Figure at 0x1eeecb1e470>"
      ]
     },
     "metadata": {},
     "output_type": "display_data"
    }
   ],
   "source": [
    "successful_by_year = ks[ks[\"state\"] == \"successful\"][\"year\"].value_counts().sort_index()\n",
    "failed_by_year = ks[ks[\"state\"] == \"failed\"][\"year\"].value_counts().sort_index()\n",
    "failed_by_year = failed_by_year.drop([\"1970\", \"2018\"], axis=0)\n",
    "\n",
    "N = len(failed_by_year)\n",
    "ind = np.arange(N)\n",
    "width = 0.6\n",
    "\n",
    "\n",
    "p1 = plt.bar(ind, successful_by_year, width, bottom=failed_by_year)\n",
    "p2 = plt.bar(ind, failed_by_year, width, color=\"#d62728\")\n",
    "\n",
    "plt.ylabel(\"Count\")\n",
    "plt.title(\"Success and failure by year\")\n",
    "plt.xticks(ind, successful_by_year.index)\n",
    "plt.legend((p1[0], p2[0]), ('Success', 'Failure'))\n",
    "\n",
    "plt.show()"
   ]
  },
  {
   "cell_type": "markdown",
   "metadata": {},
   "source": [
    "The total number of projects increased each year and peaked in 2015, then the total started to decrease.\n",
    "However, the percentage of successful projects has always been the same each year."
   ]
  },
  {
   "cell_type": "code",
   "execution_count": 6,
   "metadata": {},
   "outputs": [
    {
     "data": {
      "image/png": "[encoded data removed]",
      "text/plain": [
       "<matplotlib.figure.Figure at 0x1eee3954be0>"
      ]
     },
     "metadata": {},
     "output_type": "display_data"
    }
   ],
   "source": [
    "successful_by_country = ks[ks[\"state\"] == \"successful\"][\"country\"].value_counts().sort_values(ascending=False)[:10]\n",
    "failed_by_country = ks[ks[\"state\"] == \"failed\"][\"country\"].value_counts().sort_values(ascending=False)[:10]\n",
    "\n",
    "N = len(failed_by_country)\n",
    "ind = np.arange(N)\n",
    "width = 0.6\n",
    "\n",
    "p1 = plt.bar(ind, successful_by_country, width, bottom=failed_by_country)\n",
    "p2 = plt.bar(ind, failed_by_country, width, color=\"#d62728\")\n",
    "\n",
    "plt.ylabel(\"Count\")\n",
    "plt.title(\"Success and failure by country\")\n",
    "plt.xticks(ind, successful_by_country.index)\n",
    "plt.legend((p1[0], p2[0]), ('Success', 'Failure'))\n",
    "\n",
    "plt.show()"
   ]
  },
  {
   "cell_type": "markdown",
   "metadata": {},
   "source": [
    "Kickstarter projects seem to fail more than they succeed in the majority of the countries."
   ]
  },
  {
   "cell_type": "code",
   "execution_count": 7,
   "metadata": {},
   "outputs": [
    {
     "data": {
      "text/plain": [
       "Film & Video    62282\n",
       "Music           49254\n",
       "Publishing      39047\n",
       "Games           34723\n",
       "Technology      31765\n",
       "Design          29516\n",
       "Art             27863\n",
       "Food            24265\n",
       "Fashion         22425\n",
       "Theater         10850\n",
       "Comics          10720\n",
       "Photography     10675\n",
       "Crafts           8661\n",
       "Journalism       4672\n",
       "Dance            3736\n",
       "Name: main_category, dtype: int64"
      ]
     },
     "execution_count": 7,
     "metadata": {},
     "output_type": "execute_result"
    }
   ],
   "source": [
    "ks[\"main_category\"].value_counts()"
   ]
  },
  {
   "cell_type": "markdown",
   "metadata": {},
   "source": [
    "## Backers and pledged features\n",
    "\n",
    "Four variables in this dataset can be powerful predictors :\n",
    "* backers\n",
    "* pledged\n",
    "* usd pledged\n",
    "* usd_pledged_real\n",
    "\n",
    "However, choosing those variables depends on our objective. Only finished and ongoing projects have data on these variables.\n",
    "\n",
    "If we're creating a Machine Learning model to predict the success rate of our future project before launching it on the Kickstarter platform, we can't use them.\n",
    "\n",
    "But, If we are a person interested in a project currently into the financing campaign and we wan't to make sure it will be a successful project, those variables could be used."
   ]
  },
  {
   "cell_type": "markdown",
   "metadata": {},
   "source": [
    "## Preprocessing"
   ]
  },
  {
   "cell_type": "code",
   "execution_count": 88,
   "metadata": {
    "collapsed": true
   },
   "outputs": [],
   "source": [
    "# Feature selection\n",
    "features_selected = [\"main_category\", \"country\", \"goal\", \"year\"]\n",
    "\n",
    "# Splitting the dataset into the dependent and independent variables\n",
    "features = ks[features_selected]\n",
    "target = ks[\"state\"]"
   ]
  },
  {
   "cell_type": "code",
   "execution_count": 89,
   "metadata": {
    "collapsed": true
   },
   "outputs": [],
   "source": [
    "# Create dummy variables from categorical features\n",
    "for col in [\"main_category\", \"country\", \"year\"]:\n",
    "    col_dummies = pd.get_dummies(features[col], drop_first=True)\n",
    "    features = pd.concat([features, col_dummies], axis=1)\n",
    "    features = features.drop(col, axis=1)"
   ]
  },
  {
   "cell_type": "code",
   "execution_count": 90,
   "metadata": {
    "collapsed": true
   },
   "outputs": [],
   "source": [
    "# Transform target values from categorical to numerical\n",
    "from sklearn.preprocessing import LabelEncoder\n",
    "\n",
    "le = LabelEncoder()\n",
    "le.fit(target)\n",
    "target = le.transform(target)"
   ]
  },
  {
   "cell_type": "markdown",
   "metadata": {},
   "source": [
    "## Modeling"
   ]
  },
  {
   "cell_type": "code",
   "execution_count": 91,
   "metadata": {
    "collapsed": true
   },
   "outputs": [],
   "source": [
    "from sklearn.model_selection import train_test_split\n",
    "from sklearn.model_selection import cross_val_score\n",
    "\n",
    "X_train, X_test, y_train, y_test = train_test_split(features, target, test_size=0.3, random_state=42)"
   ]
  },
  {
   "cell_type": "code",
   "execution_count": 92,
   "metadata": {},
   "outputs": [
    {
     "data": {
      "text/plain": [
       "0.63840044927226558"
      ]
     },
     "execution_count": 92,
     "metadata": {},
     "output_type": "execute_result"
    }
   ],
   "source": [
    "from sklearn.linear_model import LogisticRegression\n",
    "\n",
    "lr = LogisticRegression()\n",
    "\n",
    "scores = cross_val_score(lr, features, target, cv=10)\n",
    "scores.mean()"
   ]
  },
  {
   "cell_type": "code",
   "execution_count": 93,
   "metadata": {},
   "outputs": [
    {
     "data": {
      "text/plain": [
       "0.66059212851840488"
      ]
     },
     "execution_count": 93,
     "metadata": {},
     "output_type": "execute_result"
    }
   ],
   "source": [
    "from sklearn.ensemble import RandomForestClassifier\n",
    "\n",
    "rfr = RandomForestClassifier()\n",
    "\n",
    "scores = cross_val_score(rfr, features, target, cv=10)\n",
    "scores.mean()"
   ]
  },
  {
   "cell_type": "markdown",
   "metadata": {
    "collapsed": true
   },
   "source": [
    "With an ensemble method like random forest, we achieve a 66% accuracy on the testing set.\n",
    "This is better than a random guessing but still, this score can be improved."
   ]
  },
  {
   "cell_type": "code",
   "execution_count": null,
   "metadata": {
    "collapsed": true
   },
   "outputs": [],
   "source": []
  }
 ],
 "metadata": {
  "kernelspec": {
   "display_name": "Python 3",
   "language": "python",
   "name": "python3"
  },
  "language_info": {
   "codemirror_mode": {
    "name": "ipython",
    "version": 3
   },
   "file_extension": ".py",
   "mimetype": "text/x-python",
   "name": "python",
   "nbconvert_exporter": "python",
   "pygments_lexer": "ipython3",
   "version": "3.6.3"
  }
 },
 "nbformat": 4,
 "nbformat_minor": 2
}
