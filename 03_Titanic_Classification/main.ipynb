{
 "cells": [
  {
   "cell_type": "markdown",
   "metadata": {},
   "source": [
    "# Predicting Survivors From The Titanic Distaster\n",
    "\n",
    "## Table of Contents\n",
    "\n",
    "1. [Introduction](#introduction)\n",
    "2. [Data Exploration](#dataExploration)\n",
    "    1. [Heatmap Of Correlation](#heatmapOfCorrelation)\n",
    "    2. [Multivariate Study](#multivariateStudy)\n",
    "3. [Data Preprocessing](#dataPreprocessing)\n",
    "    1. [Handling Missing Data](#handlingMissingData)\n",
    "    2. [Handling Categorical Data](#handlingCategoricalData)\n",
    "    3. [Feature Engineering](#featureEngineering)\n",
    "5. [Modeling](#modeling)\n",
    "6. [Results](#results)\n",
    "\n",
    "## 1. Introduction <a name=\"introduction\"></a>\n",
    "\n",
    "...\n",
    "\n",
    "The goal of this project is to improve my data analysis skills and train myself on different machine learning models to classify the passenger of the Titanic whether they survived or not.\n",
    "\n",
    "First, let's import the libraries and the datasets."
   ]
  },
  {
   "cell_type": "code",
   "execution_count": 94,
   "metadata": {
    "collapsed": true
   },
   "outputs": [],
   "source": [
    "import numpy as np\n",
    "import pandas as pd\n",
    "\n",
    "import seaborn as sns\n",
    "import matplotlib.pyplot as plt\n",
    "%matplotlib inline\n",
    "\n",
    "train_df = pd.read_csv(\"data/train.csv\")\n",
    "test_df = pd.read_csv(\"data/test.csv\")"
   ]
  },
  {
   "cell_type": "code",
   "execution_count": 95,
   "metadata": {},
   "outputs": [
    {
     "data": {
      "text/html": [
       "<div>\n",
       "<style>\n",
       "    .dataframe thead tr:only-child th {\n",
       "        text-align: right;\n",
       "    }\n",
       "\n",
       "    .dataframe thead th {\n",
       "        text-align: left;\n",
       "    }\n",
       "\n",
       "    .dataframe tbody tr th {\n",
       "        vertical-align: top;\n",
       "    }\n",
       "</style>\n",
       "<table border=\"1\" class=\"dataframe\">\n",
       "  <thead>\n",
       "    <tr style=\"text-align: right;\">\n",
       "      <th></th>\n",
       "      <th>PassengerId</th>\n",
       "      <th>Survived</th>\n",
       "      <th>Pclass</th>\n",
       "      <th>Name</th>\n",
       "      <th>Sex</th>\n",
       "      <th>Age</th>\n",
       "      <th>SibSp</th>\n",
       "      <th>Parch</th>\n",
       "      <th>Ticket</th>\n",
       "      <th>Fare</th>\n",
       "      <th>Cabin</th>\n",
       "      <th>Embarked</th>\n",
       "    </tr>\n",
       "  </thead>\n",
       "  <tbody>\n",
       "    <tr>\n",
       "      <th>0</th>\n",
       "      <td>1</td>\n",
       "      <td>0</td>\n",
       "      <td>3</td>\n",
       "      <td>Braund, Mr. Owen Harris</td>\n",
       "      <td>male</td>\n",
       "      <td>22.0</td>\n",
       "      <td>1</td>\n",
       "      <td>0</td>\n",
       "      <td>A/5 21171</td>\n",
       "      <td>7.2500</td>\n",
       "      <td>NaN</td>\n",
       "      <td>S</td>\n",
       "    </tr>\n",
       "    <tr>\n",
       "      <th>1</th>\n",
       "      <td>2</td>\n",
       "      <td>1</td>\n",
       "      <td>1</td>\n",
       "      <td>Cumings, Mrs. John Bradley (Florence Briggs Th...</td>\n",
       "      <td>female</td>\n",
       "      <td>38.0</td>\n",
       "      <td>1</td>\n",
       "      <td>0</td>\n",
       "      <td>PC 17599</td>\n",
       "      <td>71.2833</td>\n",
       "      <td>C85</td>\n",
       "      <td>C</td>\n",
       "    </tr>\n",
       "    <tr>\n",
       "      <th>2</th>\n",
       "      <td>3</td>\n",
       "      <td>1</td>\n",
       "      <td>3</td>\n",
       "      <td>Heikkinen, Miss. Laina</td>\n",
       "      <td>female</td>\n",
       "      <td>26.0</td>\n",
       "      <td>0</td>\n",
       "      <td>0</td>\n",
       "      <td>STON/O2. 3101282</td>\n",
       "      <td>7.9250</td>\n",
       "      <td>NaN</td>\n",
       "      <td>S</td>\n",
       "    </tr>\n",
       "    <tr>\n",
       "      <th>3</th>\n",
       "      <td>4</td>\n",
       "      <td>1</td>\n",
       "      <td>1</td>\n",
       "      <td>Futrelle, Mrs. Jacques Heath (Lily May Peel)</td>\n",
       "      <td>female</td>\n",
       "      <td>35.0</td>\n",
       "      <td>1</td>\n",
       "      <td>0</td>\n",
       "      <td>113803</td>\n",
       "      <td>53.1000</td>\n",
       "      <td>C123</td>\n",
       "      <td>S</td>\n",
       "    </tr>\n",
       "    <tr>\n",
       "      <th>4</th>\n",
       "      <td>5</td>\n",
       "      <td>0</td>\n",
       "      <td>3</td>\n",
       "      <td>Allen, Mr. William Henry</td>\n",
       "      <td>male</td>\n",
       "      <td>35.0</td>\n",
       "      <td>0</td>\n",
       "      <td>0</td>\n",
       "      <td>373450</td>\n",
       "      <td>8.0500</td>\n",
       "      <td>NaN</td>\n",
       "      <td>S</td>\n",
       "    </tr>\n",
       "  </tbody>\n",
       "</table>\n",
       "</div>"
      ],
      "text/plain": [
       "   PassengerId  Survived  Pclass  \\\n",
       "0            1         0       3   \n",
       "1            2         1       1   \n",
       "2            3         1       3   \n",
       "3            4         1       1   \n",
       "4            5         0       3   \n",
       "\n",
       "                                                Name     Sex   Age  SibSp  \\\n",
       "0                            Braund, Mr. Owen Harris    male  22.0      1   \n",
       "1  Cumings, Mrs. John Bradley (Florence Briggs Th...  female  38.0      1   \n",
       "2                             Heikkinen, Miss. Laina  female  26.0      0   \n",
       "3       Futrelle, Mrs. Jacques Heath (Lily May Peel)  female  35.0      1   \n",
       "4                           Allen, Mr. William Henry    male  35.0      0   \n",
       "\n",
       "   Parch            Ticket     Fare Cabin Embarked  \n",
       "0      0         A/5 21171   7.2500   NaN        S  \n",
       "1      0          PC 17599  71.2833   C85        C  \n",
       "2      0  STON/O2. 3101282   7.9250   NaN        S  \n",
       "3      0            113803  53.1000  C123        S  \n",
       "4      0            373450   8.0500   NaN        S  "
      ]
     },
     "execution_count": 95,
     "metadata": {},
     "output_type": "execute_result"
    }
   ],
   "source": [
    "train_df.head()"
   ]
  },
  {
   "cell_type": "code",
   "execution_count": 96,
   "metadata": {},
   "outputs": [
    {
     "name": "stdout",
     "output_type": "stream",
     "text": [
      "(891, 12)\n",
      "(418, 11)\n"
     ]
    }
   ],
   "source": [
    "print(train_df.shape)\n",
    "print(test_df.shape)"
   ]
  },
  {
   "cell_type": "markdown",
   "metadata": {},
   "source": [
    "The dataset has 10 features which could help us predict which person survivied on the Titanic. The two features remaining being the PassengerId and the variable we want to predict."
   ]
  },
  {
   "cell_type": "code",
   "execution_count": 97,
   "metadata": {},
   "outputs": [
    {
     "data": {
      "text/html": [
       "<div>\n",
       "<style>\n",
       "    .dataframe thead tr:only-child th {\n",
       "        text-align: right;\n",
       "    }\n",
       "\n",
       "    .dataframe thead th {\n",
       "        text-align: left;\n",
       "    }\n",
       "\n",
       "    .dataframe tbody tr th {\n",
       "        vertical-align: top;\n",
       "    }\n",
       "</style>\n",
       "<table border=\"1\" class=\"dataframe\">\n",
       "  <thead>\n",
       "    <tr style=\"text-align: right;\">\n",
       "      <th></th>\n",
       "      <th>PassengerId</th>\n",
       "      <th>Survived</th>\n",
       "      <th>Pclass</th>\n",
       "      <th>Age</th>\n",
       "      <th>SibSp</th>\n",
       "      <th>Parch</th>\n",
       "      <th>Fare</th>\n",
       "    </tr>\n",
       "  </thead>\n",
       "  <tbody>\n",
       "    <tr>\n",
       "      <th>count</th>\n",
       "      <td>891.000000</td>\n",
       "      <td>891.000000</td>\n",
       "      <td>891.000000</td>\n",
       "      <td>714.000000</td>\n",
       "      <td>891.000000</td>\n",
       "      <td>891.000000</td>\n",
       "      <td>891.000000</td>\n",
       "    </tr>\n",
       "    <tr>\n",
       "      <th>mean</th>\n",
       "      <td>446.000000</td>\n",
       "      <td>0.383838</td>\n",
       "      <td>2.308642</td>\n",
       "      <td>29.699118</td>\n",
       "      <td>0.523008</td>\n",
       "      <td>0.381594</td>\n",
       "      <td>32.204208</td>\n",
       "    </tr>\n",
       "    <tr>\n",
       "      <th>std</th>\n",
       "      <td>257.353842</td>\n",
       "      <td>0.486592</td>\n",
       "      <td>0.836071</td>\n",
       "      <td>14.526497</td>\n",
       "      <td>1.102743</td>\n",
       "      <td>0.806057</td>\n",
       "      <td>49.693429</td>\n",
       "    </tr>\n",
       "    <tr>\n",
       "      <th>min</th>\n",
       "      <td>1.000000</td>\n",
       "      <td>0.000000</td>\n",
       "      <td>1.000000</td>\n",
       "      <td>0.420000</td>\n",
       "      <td>0.000000</td>\n",
       "      <td>0.000000</td>\n",
       "      <td>0.000000</td>\n",
       "    </tr>\n",
       "    <tr>\n",
       "      <th>25%</th>\n",
       "      <td>223.500000</td>\n",
       "      <td>0.000000</td>\n",
       "      <td>2.000000</td>\n",
       "      <td>20.125000</td>\n",
       "      <td>0.000000</td>\n",
       "      <td>0.000000</td>\n",
       "      <td>7.910400</td>\n",
       "    </tr>\n",
       "    <tr>\n",
       "      <th>50%</th>\n",
       "      <td>446.000000</td>\n",
       "      <td>0.000000</td>\n",
       "      <td>3.000000</td>\n",
       "      <td>28.000000</td>\n",
       "      <td>0.000000</td>\n",
       "      <td>0.000000</td>\n",
       "      <td>14.454200</td>\n",
       "    </tr>\n",
       "    <tr>\n",
       "      <th>75%</th>\n",
       "      <td>668.500000</td>\n",
       "      <td>1.000000</td>\n",
       "      <td>3.000000</td>\n",
       "      <td>38.000000</td>\n",
       "      <td>1.000000</td>\n",
       "      <td>0.000000</td>\n",
       "      <td>31.000000</td>\n",
       "    </tr>\n",
       "    <tr>\n",
       "      <th>max</th>\n",
       "      <td>891.000000</td>\n",
       "      <td>1.000000</td>\n",
       "      <td>3.000000</td>\n",
       "      <td>80.000000</td>\n",
       "      <td>8.000000</td>\n",
       "      <td>6.000000</td>\n",
       "      <td>512.329200</td>\n",
       "    </tr>\n",
       "  </tbody>\n",
       "</table>\n",
       "</div>"
      ],
      "text/plain": [
       "       PassengerId    Survived      Pclass         Age       SibSp  \\\n",
       "count   891.000000  891.000000  891.000000  714.000000  891.000000   \n",
       "mean    446.000000    0.383838    2.308642   29.699118    0.523008   \n",
       "std     257.353842    0.486592    0.836071   14.526497    1.102743   \n",
       "min       1.000000    0.000000    1.000000    0.420000    0.000000   \n",
       "25%     223.500000    0.000000    2.000000   20.125000    0.000000   \n",
       "50%     446.000000    0.000000    3.000000   28.000000    0.000000   \n",
       "75%     668.500000    1.000000    3.000000   38.000000    1.000000   \n",
       "max     891.000000    1.000000    3.000000   80.000000    8.000000   \n",
       "\n",
       "            Parch        Fare  \n",
       "count  891.000000  891.000000  \n",
       "mean     0.381594   32.204208  \n",
       "std      0.806057   49.693429  \n",
       "min      0.000000    0.000000  \n",
       "25%      0.000000    7.910400  \n",
       "50%      0.000000   14.454200  \n",
       "75%      0.000000   31.000000  \n",
       "max      6.000000  512.329200  "
      ]
     },
     "execution_count": 97,
     "metadata": {},
     "output_type": "execute_result"
    }
   ],
   "source": [
    "train_df.describe()"
   ]
  },
  {
   "cell_type": "markdown",
   "metadata": {},
   "source": [
    "Five of those features are quantitative features. We can observe that the Age variable have missing values, we will handle those\n",
    "later."
   ]
  },
  {
   "cell_type": "markdown",
   "metadata": {},
   "source": [
    "## 2. Data Exploration <a name=\"dataExploration\"></a>\n",
    "\n",
    "Our objective is to predict if a passenger survived the sinking of the Titanic.\n",
    "\n",
    "For this, we need to identify the most important features which will help our model correctly predict the target feature.\n",
    "Our target feature is the column Survived in our training dataset.\n",
    "\n",
    "### 2.1 Heatmap Of Correlation<a name=\"heatmapOfCorrelation\"></a>\n",
    "\n",
    "A heatmap of correlation between all our features will give us more detail about our dataset."
   ]
  },
  {
   "cell_type": "code",
   "execution_count": 98,
   "metadata": {},
   "outputs": [
    {
     "data": {
      "text/plain": [
       "<matplotlib.axes._subplots.AxesSubplot at 0x251f9f67908>"
      ]
     },
     "execution_count": 98,
     "metadata": {},
     "output_type": "execute_result"
    },
    {
     "data": {
      "image/png": "[encoded data removed]",
      "text/plain": [
       "<matplotlib.figure.Figure at 0x251f9f78a90>"
      ]
     },
     "metadata": {},
     "output_type": "display_data"
    }
   ],
   "source": [
    "corr = train_df.drop(\"PassengerId\", axis = 1).corr()\n",
    "fig , ax = plt.subplots(figsize = (10 , 8))\n",
    "sns.heatmap(corr, square = True, annot = True, ax = ax)"
   ]
  },
  {
   "cell_type": "markdown",
   "metadata": {},
   "source": [
    "From this matrix of correlation we can see that Pclass and Fare are the most correlated with our target variable.\n",
    "\n",
    "### 2.2 Multivariate Study<a name=\"multivariateStudy\"></a>\n",
    "\n",
    "Let's see what those variables can tell us about the survivability of the passengers."
   ]
  },
  {
   "cell_type": "code",
   "execution_count": 99,
   "metadata": {},
   "outputs": [
    {
     "data": {
      "image/png": "[encoded data removed]",
      "text/plain": [
       "<matplotlib.figure.Figure at 0x251f7ff3748>"
      ]
     },
     "metadata": {},
     "output_type": "display_data"
    }
   ],
   "source": [
    "survived = train_df[train_df[\"Survived\"] == 1]\n",
    "died = train_df[train_df[\"Survived\"] == 0]\n",
    "\n",
    "survived[\"Fare\"].plot.hist(alpha = 0.5, color = \"red\", bins = 25)\n",
    "died[\"Fare\"].plot.hist(alpha = 0.5, color = \"blue\", bins = 25)\n",
    "plt.legend([\"Survived\", \"Died\"])\n",
    "\n",
    "plt.show()"
   ]
  },
  {
   "cell_type": "markdown",
   "metadata": {},
   "source": [
    "A large proportion of the passenger seems to have died when the price they paid was inferior to 20.\n",
    "To confirm this assumption, we can observe a smaller part of the data."
   ]
  },
  {
   "cell_type": "code",
   "execution_count": 100,
   "metadata": {},
   "outputs": [
    {
     "data": {
      "image/png": "[encoded data removed]",
      "text/plain": [
       "<matplotlib.figure.Figure at 0x251fa43dac8>"
      ]
     },
     "metadata": {},
     "output_type": "display_data"
    }
   ],
   "source": [
    "survived = train_df[(train_df[\"Survived\"] == 1) & (train_df[\"Fare\"] < 50)]\n",
    "died = train_df[(train_df[\"Survived\"] == 0) & (train_df[\"Fare\"] < 50)]\n",
    "\n",
    "survived[\"Fare\"].plot.hist(alpha = 0.5, color = \"red\", bins = 25)\n",
    "died[\"Fare\"].plot.hist(alpha = 0.5, color = \"blue\", bins = 25)\n",
    "plt.legend([\"Survived\", \"Died\"])\n",
    "\n",
    "plt.show()"
   ]
  },
  {
   "cell_type": "markdown",
   "metadata": {},
   "source": [
    "This validates what we said before, for a Fare of 0 to 16 the passsengers had more chance to die than survive.\n",
    "This trend slowly decreases and could indicates than the class of the passengers correlates with their survivability."
   ]
  },
  {
   "cell_type": "code",
   "execution_count": 101,
   "metadata": {},
   "outputs": [
    {
     "data": {
      "image/png": "[encoded data removed]",
      "text/plain": [
       "<matplotlib.figure.Figure at 0x251fa1601d0>"
      ]
     },
     "metadata": {},
     "output_type": "display_data"
    }
   ],
   "source": [
    "pivot_pclass = train_df.pivot_table(index = \"Pclass\", values = \"Survived\")\n",
    "pivot_pclass.plot.bar()\n",
    "\n",
    "plt.show()"
   ]
  },
  {
   "cell_type": "markdown",
   "metadata": {},
   "source": [
    "This pivot table shows the percentage of survivors depending on the class they were travelling.\n",
    "Higher classes (a lower number means a higher class) give more chance to survive.\n",
    "\n",
    "It confirms what we observed with the Fare variable."
   ]
  },
  {
   "cell_type": "code",
   "execution_count": 102,
   "metadata": {},
   "outputs": [
    {
     "data": {
      "text/plain": [
       "<matplotlib.axes._subplots.AxesSubplot at 0x251f8411630>"
      ]
     },
     "execution_count": 102,
     "metadata": {},
     "output_type": "execute_result"
    },
    {
     "data": {
      "image/png": "[encoded data removed]",
      "text/plain": [
       "<matplotlib.figure.Figure at 0x251fa304208>"
      ]
     },
     "metadata": {},
     "output_type": "display_data"
    }
   ],
   "source": [
    "survived = train_df[train_df[\"Survived\"] == 1][\"Embarked\"].value_counts()\n",
    "died = train_df[train_df[\"Survived\"] == 0][\"Embarked\"].value_counts()\n",
    "\n",
    "embarked_df = pd.DataFrame([survived, died])\n",
    "embarked_df.index = [\"Survived\", \"Died\"]\n",
    "embarked_df.plot(kind = \"bar\", stacked = True, figsize = (8, 6))"
   ]
  },
  {
   "cell_type": "markdown",
   "metadata": {},
   "source": [
    "The Embarked variable doesn't seem to show a trend."
   ]
  },
  {
   "cell_type": "code",
   "execution_count": 103,
   "metadata": {
    "scrolled": true
   },
   "outputs": [
    {
     "data": {
      "image/png": "[encoded data removed]",
      "text/plain": [
       "<matplotlib.figure.Figure at 0x251f83bbe80>"
      ]
     },
     "metadata": {},
     "output_type": "display_data"
    }
   ],
   "source": [
    "pivot_sex = train_df.pivot_table(index = \"Sex\", values = \"Survived\")\n",
    "pivot_sex.plot.bar()\n",
    "\n",
    "plt.show()"
   ]
  },
  {
   "cell_type": "markdown",
   "metadata": {},
   "source": [
    "This pivot table shows the percentage of survivors depending on their gender.\n",
    "Females are more prone to have survived."
   ]
  },
  {
   "cell_type": "code",
   "execution_count": 104,
   "metadata": {},
   "outputs": [
    {
     "data": {
      "image/png": "[encoded data removed]",
      "text/plain": [
       "<matplotlib.figure.Figure at 0x251f84fe400>"
      ]
     },
     "metadata": {},
     "output_type": "display_data"
    }
   ],
   "source": [
    "survived = train_df[train_df[\"Survived\"] == 1]\n",
    "died = train_df[train_df[\"Survived\"] == 0]\n",
    "\n",
    "survived[\"Age\"].plot.hist(alpha = 0.5, color = \"red\", bins = 50)\n",
    "died[\"Age\"].plot.hist(alpha = 0.5, color = \"blue\", bins = 50)\n",
    "plt.legend([\"Survived\", \"Died\"])\n",
    "\n",
    "plt.show()"
   ]
  },
  {
   "cell_type": "markdown",
   "metadata": {},
   "source": [
    "We can see that in some age ranges, more people survived. It is the case for the age from 0 to 10 where the red bars are higher than the blue ones.\n",
    "\n",
    "On the contrary, from 15 to 40, we can see that a lot of the people on board of the ship didn't survive."
   ]
  },
  {
   "cell_type": "markdown",
   "metadata": {},
   "source": [
    "## 3. Data Preprocessing <a name=\"dataPreprocessing\"></a>"
   ]
  },
  {
   "cell_type": "markdown",
   "metadata": {},
   "source": [
    "### 3.1 Handling Missing Data <a name=\"handlingMissingData\"></a>"
   ]
  },
  {
   "cell_type": "code",
   "execution_count": 105,
   "metadata": {},
   "outputs": [
    {
     "name": "stdout",
     "output_type": "stream",
     "text": [
      "            Percent  Total\n",
      "Age       19.865320    177\n",
      "Cabin     77.104377    687\n",
      "Embarked   0.224467      2\n",
      "--------------------------\n",
      "         Percent  Total\n",
      "Age     9.652076     86\n",
      "Fare    0.112233      1\n",
      "Cabin  36.700337    327\n"
     ]
    }
   ],
   "source": [
    "temp = train_df.isnull().sum()\n",
    "temp = temp[temp > 0]\n",
    "train_missing_data = pd.DataFrame({\"Total\" : temp, \"Percent\" : temp / len(train_df) * 100})\n",
    "\n",
    "temp = test_df.isnull().sum()\n",
    "temp = temp[temp > 0]\n",
    "test_missing_data = pd.DataFrame({\"Total\" : temp, \"Percent\" : temp / len(train_df) * 100})\n",
    "\n",
    "print(train_missing_data)\n",
    "print(\"-\" * 26)\n",
    "print(test_missing_data)"
   ]
  },
  {
   "cell_type": "markdown",
   "metadata": {},
   "source": [
    "Four variables have missing values. We have several options to handle these values.\n",
    "\n",
    "- Cabin : a lot of the data is missing (77% on the training dataset), it would be preferable to delete this column.\n",
    "- Embarked : only two values are missing. Being a categorical variable, we can fill it with the most common value, the mode.\n",
    "- Fare : only one value is missing, we can fill it with the mean of the column.\n",
    "- Age : this variable has nearly 20% missing values, but it is an important variable which will greatly help us build our model. We must be careful and do more analysis before filling it with any value."
   ]
  },
  {
   "cell_type": "markdown",
   "metadata": {},
   "source": [
    "#### Handling Cabin, Embarked and Fare"
   ]
  },
  {
   "cell_type": "code",
   "execution_count": 106,
   "metadata": {
    "collapsed": true
   },
   "outputs": [],
   "source": [
    "# Deleting the Cabin variable\n",
    "train_df = train_df.drop(\"Cabin\", axis = 1)\n",
    "test_df = test_df.drop(\"Cabin\", axis = 1)\n",
    "\n",
    "# Filling the Embarked variable with the mode\n",
    "train_df[\"Embarked\"] = train_df[\"Embarked\"].fillna(train_df[\"Embarked\"].mode()[0])\n",
    "\n",
    "# Filling the Fare variable with the mean\n",
    "test_df[\"Fare\"] = test_df[\"Fare\"].fillna(test_df[\"Fare\"].mean())"
   ]
  },
  {
   "cell_type": "code",
   "execution_count": 107,
   "metadata": {},
   "outputs": [
    {
     "data": {
      "text/plain": [
       "(PassengerId      0\n",
       " Survived         0\n",
       " Pclass           0\n",
       " Name             0\n",
       " Sex              0\n",
       " Age            177\n",
       " SibSp            0\n",
       " Parch            0\n",
       " Ticket           0\n",
       " Fare             0\n",
       " Embarked         0\n",
       " dtype: int64, PassengerId     0\n",
       " Pclass          0\n",
       " Name            0\n",
       " Sex             0\n",
       " Age            86\n",
       " SibSp           0\n",
       " Parch           0\n",
       " Ticket          0\n",
       " Fare            0\n",
       " Embarked        0\n",
       " dtype: int64)"
      ]
     },
     "execution_count": 107,
     "metadata": {},
     "output_type": "execute_result"
    }
   ],
   "source": [
    "# Checking if everything worked\n",
    "train_df.isnull().sum(), test_df.isnull().sum()"
   ]
  },
  {
   "cell_type": "markdown",
   "metadata": {},
   "source": [
    "#### Handling Age\n",
    "\n",
    "Simply filling the missing values with the mean or the median can be bad for our model. By analyzing the age for different type of people we can found important differences.\n",
    "\n",
    "First, we can analyze the average age for each gender."
   ]
  },
  {
   "cell_type": "code",
   "execution_count": 108,
   "metadata": {},
   "outputs": [
    {
     "name": "stdout",
     "output_type": "stream",
     "text": [
      "27.915708812260537 30.72664459161148\n",
      "27.0 29.0\n"
     ]
    }
   ],
   "source": [
    "print(train_df[train_df[\"Sex\"] == \"female\"][\"Age\"].mean(), train_df[train_df[\"Sex\"] == \"male\"][\"Age\"].mean())\n",
    "print(train_df[train_df[\"Sex\"] == \"female\"][\"Age\"].median(), train_df[train_df[\"Sex\"] == \"male\"][\"Age\"].median())"
   ]
  },
  {
   "cell_type": "markdown",
   "metadata": {},
   "source": [
    "There is not a big difference between the two gender, but we need to explore further and verify if there is any differences with the most important variables we've identified previously.\n",
    "\n",
    "Maybe the class of a passenger is influenced by its age : an older person could affoard a more expensive ticket."
   ]
  },
  {
   "cell_type": "code",
   "execution_count": 109,
   "metadata": {},
   "outputs": [
    {
     "data": {
      "image/png": "[encoded data removed]",
      "text/plain": [
       "<matplotlib.figure.Figure at 0x251f80f2ba8>"
      ]
     },
     "metadata": {},
     "output_type": "display_data"
    }
   ],
   "source": [
    "female_df = train_df[train_df[\"Sex\"] == \"female\"]\n",
    "\n",
    "pivot_pclass = female_df.pivot_table(index = \"Pclass\", values = \"Age\")\n",
    "pivot_pclass.plot.bar()\n",
    "\n",
    "plt.show()"
   ]
  },
  {
   "cell_type": "code",
   "execution_count": 110,
   "metadata": {},
   "outputs": [
    {
     "data": {
      "image/png": "[encoded data removed]",
      "text/plain": [
       "<matplotlib.figure.Figure at 0x251f84dd6d8>"
      ]
     },
     "metadata": {},
     "output_type": "display_data"
    }
   ],
   "source": [
    "male_df = train_df[train_df[\"Sex\"] == \"male\"]\n",
    "\n",
    "pivot_pclass = female_df.pivot_table(index = \"Pclass\", values = \"Age\")\n",
    "pivot_pclass.plot.bar()\n",
    "\n",
    "plt.show()"
   ]
  },
  {
   "cell_type": "markdown",
   "metadata": {},
   "source": [
    "Depending on the Pclass and the Sex of the passenger, the average Age varies a lot.\n",
    "Here is a table comparing those results for the training dataset :"
   ]
  },
  {
   "cell_type": "code",
   "execution_count": 111,
   "metadata": {},
   "outputs": [
    {
     "data": {
      "text/html": [
       "<div>\n",
       "<style>\n",
       "    .dataframe thead tr:only-child th {\n",
       "        text-align: right;\n",
       "    }\n",
       "\n",
       "    .dataframe thead th {\n",
       "        text-align: left;\n",
       "    }\n",
       "\n",
       "    .dataframe tbody tr th {\n",
       "        vertical-align: top;\n",
       "    }\n",
       "</style>\n",
       "<table border=\"1\" class=\"dataframe\">\n",
       "  <thead>\n",
       "    <tr style=\"text-align: right;\">\n",
       "      <th></th>\n",
       "      <th>female</th>\n",
       "      <th>male</th>\n",
       "    </tr>\n",
       "  </thead>\n",
       "  <tbody>\n",
       "    <tr>\n",
       "      <th>1</th>\n",
       "      <td>34.611765</td>\n",
       "      <td>41.281386</td>\n",
       "    </tr>\n",
       "    <tr>\n",
       "      <th>2</th>\n",
       "      <td>28.722973</td>\n",
       "      <td>30.740707</td>\n",
       "    </tr>\n",
       "    <tr>\n",
       "      <th>3</th>\n",
       "      <td>21.750000</td>\n",
       "      <td>26.507589</td>\n",
       "    </tr>\n",
       "  </tbody>\n",
       "</table>\n",
       "</div>"
      ],
      "text/plain": [
       "      female       male\n",
       "1  34.611765  41.281386\n",
       "2  28.722973  30.740707\n",
       "3  21.750000  26.507589"
      ]
     },
     "execution_count": 111,
     "metadata": {},
     "output_type": "execute_result"
    }
   ],
   "source": [
    "train_age_results = pd.DataFrame({\"female\" : [0., 0., 0.], \"male\" : [0., 0., 0.]}, index = [1, 2, 3])\n",
    "\n",
    "for i in range(1, 4):\n",
    "    res = []\n",
    "    for gender in [\"female\", \"male\"]:\n",
    "        train_age_results.loc[i, gender] = train_df[(train_df[\"Pclass\"] == i) & (train_df[\"Sex\"] == gender)][\"Age\"].mean()\n",
    "\n",
    "train_age_results"
   ]
  },
  {
   "cell_type": "markdown",
   "metadata": {},
   "source": [
    "Using this table, we can now fill the missing values in our datasets."
   ]
  },
  {
   "cell_type": "code",
   "execution_count": 112,
   "metadata": {
    "collapsed": true
   },
   "outputs": [],
   "source": [
    "for i in range(1, 4):\n",
    "    for gender in [\"female\", \"male\"]:\n",
    "        null_values = train_df[(train_df[\"Pclass\"] == i) & (train_df[\"Sex\"] == gender)][\"Age\"].isnull()\n",
    "        idx = null_values[null_values == True].index\n",
    "        train_df.loc[idx, \"Age\"] = train_age_results.loc[i, gender]\n",
    "\n",
    "# Same thing for out test dataset\n",
    "for i in range(1, 4):\n",
    "    for gender in [\"female\", \"male\"]:\n",
    "        null_values = test_df[(test_df[\"Pclass\"] == i) & (test_df[\"Sex\"] == gender)][\"Age\"].isnull()\n",
    "        idx = null_values[null_values == True].index\n",
    "        test_df.loc[idx, \"Age\"] = test_df[(test_df[\"Pclass\"] == i) & (test_df[\"Sex\"] == gender)][\"Age\"].mean()"
   ]
  },
  {
   "cell_type": "code",
   "execution_count": 113,
   "metadata": {},
   "outputs": [
    {
     "data": {
      "text/plain": [
       "PassengerId    0\n",
       "Survived       0\n",
       "Pclass         0\n",
       "Name           0\n",
       "Sex            0\n",
       "Age            0\n",
       "SibSp          0\n",
       "Parch          0\n",
       "Ticket         0\n",
       "Fare           0\n",
       "Embarked       0\n",
       "dtype: int64"
      ]
     },
     "execution_count": 113,
     "metadata": {},
     "output_type": "execute_result"
    }
   ],
   "source": [
    "train_df.isnull().sum()"
   ]
  },
  {
   "cell_type": "markdown",
   "metadata": {},
   "source": [
    "Every missing values have been taken care of."
   ]
  },
  {
   "cell_type": "markdown",
   "metadata": {},
   "source": [
    "### 3.2 Outliers <a name=\"outliers\"></a>\n",
    "\n",
    "By using a boxplot on the Fare variable we observe values who could be considered as outliers."
   ]
  },
  {
   "cell_type": "code",
   "execution_count": 114,
   "metadata": {},
   "outputs": [
    {
     "data": {
      "image/png": "[encoded data removed]",
      "text/plain": [
       "<matplotlib.figure.Figure at 0x251f8cd77f0>"
      ]
     },
     "metadata": {},
     "output_type": "display_data"
    }
   ],
   "source": [
    "plt.boxplot(train_df[\"Fare\"])\n",
    "plt.show()"
   ]
  },
  {
   "cell_type": "code",
   "execution_count": 115,
   "metadata": {},
   "outputs": [
    {
     "data": {
      "text/html": [
       "<div>\n",
       "<style>\n",
       "    .dataframe thead tr:only-child th {\n",
       "        text-align: right;\n",
       "    }\n",
       "\n",
       "    .dataframe thead th {\n",
       "        text-align: left;\n",
       "    }\n",
       "\n",
       "    .dataframe tbody tr th {\n",
       "        vertical-align: top;\n",
       "    }\n",
       "</style>\n",
       "<table border=\"1\" class=\"dataframe\">\n",
       "  <thead>\n",
       "    <tr style=\"text-align: right;\">\n",
       "      <th></th>\n",
       "      <th>PassengerId</th>\n",
       "      <th>Survived</th>\n",
       "      <th>Pclass</th>\n",
       "      <th>Name</th>\n",
       "      <th>Sex</th>\n",
       "      <th>Age</th>\n",
       "      <th>SibSp</th>\n",
       "      <th>Parch</th>\n",
       "      <th>Ticket</th>\n",
       "      <th>Fare</th>\n",
       "      <th>Embarked</th>\n",
       "    </tr>\n",
       "  </thead>\n",
       "  <tbody>\n",
       "    <tr>\n",
       "      <th>258</th>\n",
       "      <td>259</td>\n",
       "      <td>1</td>\n",
       "      <td>1</td>\n",
       "      <td>Ward, Miss. Anna</td>\n",
       "      <td>female</td>\n",
       "      <td>35.0</td>\n",
       "      <td>0</td>\n",
       "      <td>0</td>\n",
       "      <td>PC 17755</td>\n",
       "      <td>512.3292</td>\n",
       "      <td>C</td>\n",
       "    </tr>\n",
       "    <tr>\n",
       "      <th>679</th>\n",
       "      <td>680</td>\n",
       "      <td>1</td>\n",
       "      <td>1</td>\n",
       "      <td>Cardeza, Mr. Thomas Drake Martinez</td>\n",
       "      <td>male</td>\n",
       "      <td>36.0</td>\n",
       "      <td>0</td>\n",
       "      <td>1</td>\n",
       "      <td>PC 17755</td>\n",
       "      <td>512.3292</td>\n",
       "      <td>C</td>\n",
       "    </tr>\n",
       "    <tr>\n",
       "      <th>737</th>\n",
       "      <td>738</td>\n",
       "      <td>1</td>\n",
       "      <td>1</td>\n",
       "      <td>Lesurer, Mr. Gustave J</td>\n",
       "      <td>male</td>\n",
       "      <td>35.0</td>\n",
       "      <td>0</td>\n",
       "      <td>0</td>\n",
       "      <td>PC 17755</td>\n",
       "      <td>512.3292</td>\n",
       "      <td>C</td>\n",
       "    </tr>\n",
       "  </tbody>\n",
       "</table>\n",
       "</div>"
      ],
      "text/plain": [
       "     PassengerId  Survived  Pclass                                Name  \\\n",
       "258          259         1       1                    Ward, Miss. Anna   \n",
       "679          680         1       1  Cardeza, Mr. Thomas Drake Martinez   \n",
       "737          738         1       1              Lesurer, Mr. Gustave J   \n",
       "\n",
       "        Sex   Age  SibSp  Parch    Ticket      Fare Embarked  \n",
       "258  female  35.0      0      0  PC 17755  512.3292        C  \n",
       "679    male  36.0      0      1  PC 17755  512.3292        C  \n",
       "737    male  35.0      0      0  PC 17755  512.3292        C  "
      ]
     },
     "execution_count": 115,
     "metadata": {},
     "output_type": "execute_result"
    }
   ],
   "source": [
    "train_df[train_df[\"Fare\"] > 400]"
   ]
  },
  {
   "cell_type": "markdown",
   "metadata": {},
   "source": [
    "There is three passengers with a Fare of 512.3292 which were all in the first class and embarked at the same location.\n",
    "It doesn't seems to be the case of outliers."
   ]
  },
  {
   "cell_type": "markdown",
   "metadata": {},
   "source": [
    "### 3.3 Feature engineering <a name=\"featureEngineering\"></a>\n",
    "\n",
    "#### Processing Age\n",
    "\n",
    "By creating cuts on the feature Age we will try to group people by age range so that we can detect more information on the survivability of the passengers.\n",
    "\n",
    "First, the missing values need to be filled. We will replace the missing values by \"-0.5\".\n",
    "Then, we'll group values into categories :\n",
    "- Missing : -1 to 0\n",
    "- Infant : 0 to 5\n",
    "- Child : 5 to 12\n",
    "- Teenager : 12 to 18\n",
    "- Young Adult : 18 to 35\n",
    "- Adult : 35 to 60\n",
    "- Senior : 60 to 100"
   ]
  },
  {
   "cell_type": "code",
   "execution_count": 116,
   "metadata": {},
   "outputs": [
    {
     "data": {
      "image/png": "[encoded data removed]",
      "text/plain": [
       "<matplotlib.figure.Figure at 0x251f86b6400>"
      ]
     },
     "metadata": {},
     "output_type": "display_data"
    }
   ],
   "source": [
    "cut_points = [0, 5, 12, 18, 35, 60, 100]\n",
    "label_names = [\"Infant\", \"Child\", \"Teenager\", \"Young Adult\", \"Adult\", \"Senior\"]\n",
    "\n",
    "train_df[\"Age_categories\"] = pd.cut(train_df[\"Age\"], cut_points, labels = label_names)\n",
    "test_df[\"Age_categories\"] = pd.cut(test_df[\"Age\"], cut_points, labels = label_names)\n",
    "\n",
    "pivot = train_df.pivot_table(index = \"Age_categories\", values = \"Survived\")\n",
    "pivot.plot.bar()\n",
    "\n",
    "plt.show()"
   ]
  },
  {
   "cell_type": "markdown",
   "metadata": {},
   "source": [
    "This new feature help us visualize more easily the category of people who had the most chance to survive.\n",
    "The \"Infant\" category have a 70% chance to survive whereas the \"Senior\" only 22%."
   ]
  },
  {
   "cell_type": "markdown",
   "metadata": {},
   "source": [
    "#### Processing Pclass, Sex, Age_categories and Embarked\n",
    "\n",
    "Pclass is a qualitative variable but if we use it as it is our algorithm will think it is a quantitative one.\n",
    "The feature must be transformed to be useful. There is three distinct values in this variable, we are going to create new columns corresponding to these values by using the function pandas.get_dummies().\n",
    "\n",
    "The same transformation is necessary for Sex, Age_categories and Embarked."
   ]
  },
  {
   "cell_type": "code",
   "execution_count": 117,
   "metadata": {
    "collapsed": true
   },
   "outputs": [],
   "source": [
    "for col in [\"Pclass\", \"Sex\", \"Age_categories\", \"Embarked\"]:\n",
    "    dummies = pd.get_dummies(train_df[col], prefix = col)\n",
    "    train_df = pd.concat([train_df, dummies], axis = 1)\n",
    "    dummies = pd.get_dummies(test_df[col], prefix = col)\n",
    "    test_df = pd.concat([test_df, dummies], axis = 1)"
   ]
  },
  {
   "cell_type": "markdown",
   "metadata": {},
   "source": [
    "#### Processing Parch and SibSp\n",
    "\n",
    "Combining those two variables helps us define a new feature corresponding to the size of a family.\n",
    "Depending on the size of the family, their survivability can be different."
   ]
  },
  {
   "cell_type": "code",
   "execution_count": 118,
   "metadata": {
    "collapsed": true
   },
   "outputs": [],
   "source": [
    "train_df[\"FamilySize\"] = train_df[\"Parch\"] + train_df[\"SibSp\"]\n",
    "test_df[\"FamilySize\"] = test_df[\"Parch\"] + test_df[\"SibSp\"]"
   ]
  },
  {
   "cell_type": "markdown",
   "metadata": {},
   "source": [
    "Another feature worth looking into is the Name. The Name variable contains the title of the passenger. And, as the Pclass, maybe a higher title gave a passenger more chance to survive the disaster.\n",
    "\n",
    "Let's extract the title and create a new column with it. Then, we will create dummy variables for those titles."
   ]
  },
  {
   "cell_type": "code",
   "execution_count": 119,
   "metadata": {
    "collapsed": true
   },
   "outputs": [],
   "source": [
    "# Regular Expression to extract the title from the name\n",
    "train_df[\"Title\"] = train_df[\"Name\"].str.extract(\"([a-zA-Z]+[.])\", expand=True)\n",
    "test_df[\"Title\"] = test_df[\"Name\"].str.extract(\"([a-zA-Z]+[.])\", expand=True)\n",
    "\n",
    "# Creating dummy variables\n",
    "combinedTitles = pd.concat([train_df[\"Title\"], test_df[\"Title\"]])\n",
    "dummies = pd.get_dummies(combinedTitles, prefix = \"Title\")\n",
    "train_df = pd.concat([train_df, dummies[:len(train_df)]], axis = 1)\n",
    "test_df = pd.concat([test_df, dummies[len(train_df):]], axis = 1)"
   ]
  },
  {
   "cell_type": "markdown",
   "metadata": {},
   "source": [
    "## 4. Modeling <a name=\"modeling\"></a>\n",
    "\n",
    "Now that all our features are prepared we can use it to train ou machine learning models.\n",
    "The first model we are going to use is the Logistic Regression.\n",
    "\n",
    "### 4.1 Logistic Regression <a name=\"logisticRegression\"></a>\n",
    "\n",
    "The training dataset is going to be split into two parts : one part to train our model and the second to test our model.\n",
    "It will prevent overfitting our model and help us analyze our results."
   ]
  },
  {
   "cell_type": "code",
   "execution_count": 120,
   "metadata": {
    "collapsed": true
   },
   "outputs": [],
   "source": [
    "from sklearn.linear_model import LogisticRegression\n",
    "from sklearn.model_selection import train_test_split\n",
    "\n",
    "# Splitting the training dataset\n",
    "features = [\"Pclass_1\", \"Pclass_2\", \"Pclass_3\", \"Sex_female\", \"Sex_male\", \n",
    "              \"Age_categories_Infant\", \"Age_categories_Child\", \"Age_categories_Teenager\",\n",
    "              \"Age_categories_Young Adult\", \"Age_categories_Adult\", \"Age_categories_Senior\",\n",
    "              \"Fare\", \"FamilySize\",\n",
    "              'Title_Capt.', 'Title_Col.', 'Title_Countess.', 'Title_Don.', 'Title_Dr.',\n",
    "              'Title_Jonkheer.', 'Title_Lady.', 'Title_Major.', 'Title_Master.',\n",
    "              'Title_Miss.', 'Title_Mlle.', 'Title_Mme.', 'Title_Mr.', 'Title_Mrs.',\n",
    "              'Title_Ms.', 'Title_Rev.', 'Title_Sir.']\n",
    "\n",
    "# Better feature selection\n",
    "features = [\"Pclass_1\", \"Pclass_3\", \"Sex_female\", \n",
    "              \"Age_categories_Infant\", \"Age_categories_Child\", \"Age_categories_Teenager\",\n",
    "              \"Age_categories_Young Adult\", \"Age_categories_Adult\",\n",
    "              \"Fare\", \"FamilySize\",\n",
    "              'Title_Capt.', 'Title_Col.', 'Title_Countess.', 'Title_Don.', 'Title_Dr.',\n",
    "              'Title_Jonkheer.', 'Title_Lady.', 'Title_Major.', 'Title_Master.',\n",
    "              'Title_Miss.', 'Title_Mlle.', 'Title_Mme.', 'Title_Mr.', 'Title_Mrs.',\n",
    "              'Title_Ms.', 'Title_Rev.']\n",
    "X = train_df[features]\n",
    "y = train_df[\"Survived\"]\n",
    "\n",
    "X_train, X_test, y_train, y_test = train_test_split(X, y, test_size = 0.2, random_state = 0)\n",
    "\n",
    "lr = LogisticRegression()\n",
    "lr.fit(X_train, y_train)\n",
    "predictions = lr.predict(X_test)"
   ]
  },
  {
   "cell_type": "markdown",
   "metadata": {},
   "source": [
    "#### Accuracy\n",
    "\n",
    "Now, let's see the accuracy of our model by comparing our predicted values with the real values."
   ]
  },
  {
   "cell_type": "code",
   "execution_count": 121,
   "metadata": {},
   "outputs": [
    {
     "name": "stdout",
     "output_type": "stream",
     "text": [
      "0.810055865922\n"
     ]
    }
   ],
   "source": [
    "from sklearn.metrics import accuracy_score\n",
    "\n",
    "accuracy = accuracy_score(y_test, predictions)\n",
    "print(accuracy)"
   ]
  },
  {
   "cell_type": "markdown",
   "metadata": {},
   "source": [
    "Our model have an accuracy of around 81%.\n",
    "\n",
    "#### Cross Validation\n",
    "\n",
    "To make sure it's accuracy is correct we can use cross_validation to verify our results."
   ]
  },
  {
   "cell_type": "code",
   "execution_count": 122,
   "metadata": {},
   "outputs": [
    {
     "name": "stdout",
     "output_type": "stream",
     "text": [
      "[ 0.78651685  0.78651685  0.80898876  0.81111111  0.81111111  0.82022472\n",
      "  0.83146067  0.85393258  0.86363636  0.87640449]\n",
      "0.824990352968\n"
     ]
    }
   ],
   "source": [
    "from sklearn.model_selection import cross_val_score\n",
    "\n",
    "lr = LogisticRegression()\n",
    "scores = cross_val_score(lr, X, y, cv = 10)\n",
    "scores.sort()\n",
    "accuracy = scores.mean()\n",
    "\n",
    "print(scores)\n",
    "print(accuracy)"
   ]
  },
  {
   "cell_type": "markdown",
   "metadata": {},
   "source": [
    "The average accuracy of our model is 82% but it goes from 78% to nearly 87%.\n",
    "\n",
    "#### Result Submission"
   ]
  },
  {
   "cell_type": "code",
   "execution_count": 123,
   "metadata": {
    "collapsed": true
   },
   "outputs": [],
   "source": [
    "lr.fit(X_train, y_train)\n",
    "\n",
    "X_holdout = test_df[features]\n",
    "\n",
    "predictions = lr.predict(X_holdout)\n",
    "\n",
    "submission = pd.DataFrame({\"PassengerId\" : test_df[\"PassengerId\"], \"Survived\" : predictions})\n",
    "submission.to_csv(\"submission.csv\", index=False)"
   ]
  },
  {
   "cell_type": "markdown",
   "metadata": {},
   "source": [
    "The model got a score of 0.78947 on the leaderboard. It's now time to try other models to see if we can improve the score."
   ]
  },
  {
   "cell_type": "markdown",
   "metadata": {},
   "source": [
    "### 4.1 Random Forest <a name=\"randomForest\"></a>"
   ]
  },
  {
   "cell_type": "code",
   "execution_count": 124,
   "metadata": {},
   "outputs": [],
   "source": [
    "from sklearn.ensemble import RandomForestClassifier\n",
    "\n",
    "# Splitting the training dataset\n",
    "features = [\"Age\", \"Fare\", \"Sex_female\", \"Title_Mr.\", \"Pclass_3\", \"Title_Mrs.\", \"Title_Miss.\", \"FamilySize\", \"Pclass_2\"]\n",
    "X = train_df[features]\n",
    "y = train_df[\"Survived\"]\n",
    "X_holdout = test_df[features]\n",
    "\n",
    "X_train, X_test, y_train, y_test = train_test_split(X, y, test_size = 0.2, random_state = 0)"
   ]
  },
  {
   "cell_type": "code",
   "execution_count": 125,
   "metadata": {},
   "outputs": [
    {
     "data": {
      "text/plain": [
       "RandomForestClassifier(bootstrap=False, class_weight=None, criterion='gini',\n",
       "            max_depth=6, max_features='sqrt', max_leaf_nodes=None,\n",
       "            min_impurity_decrease=0.0, min_impurity_split=None,\n",
       "            min_samples_leaf=3, min_samples_split=10,\n",
       "            min_weight_fraction_leaf=0.0, n_estimators=50, n_jobs=1,\n",
       "            oob_score=False, random_state=None, verbose=0,\n",
       "            warm_start=False)"
      ]
     },
     "execution_count": 125,
     "metadata": {},
     "output_type": "execute_result"
    }
   ],
   "source": [
    "parameters = {'bootstrap': False, 'min_samples_leaf': 3, 'n_estimators': 50, \n",
    "                  'min_samples_split': 10, 'max_features': 'sqrt', 'max_depth': 6}\n",
    "\n",
    "model = RandomForestClassifier(**parameters)\n",
    "model.fit(X_train, y_train)"
   ]
  },
  {
   "cell_type": "markdown",
   "metadata": {},
   "source": [
    "#### Accuracy"
   ]
  },
  {
   "cell_type": "code",
   "execution_count": 126,
   "metadata": {},
   "outputs": [
    {
     "name": "stdout",
     "output_type": "stream",
     "text": [
      "0.834342013994\n"
     ]
    }
   ],
   "source": [
    "xval = cross_val_score(model, X_train, y_train, cv = 5, scoring='accuracy')\n",
    "print(np.mean(xval))"
   ]
  },
  {
   "cell_type": "markdown",
   "metadata": {},
   "source": [
    "#### Result Submission"
   ]
  },
  {
   "cell_type": "code",
   "execution_count": 127,
   "metadata": {
    "collapsed": true
   },
   "outputs": [],
   "source": [
    "predictions = model.predict(X_holdout).astype(int)\n",
    "\n",
    "submission = pd.DataFrame({\"PassengerId\" : test_df[\"PassengerId\"], \"Survived\" : predictions})\n",
    "submission.to_csv(\"submission2.csv\", index=False)"
   ]
  },
  {
   "cell_type": "markdown",
   "metadata": {
    "collapsed": true
   },
   "source": [
    "Unfortunately, this model wasn't better with the first one using Logistic Regression."
   ]
  }
 ],
 "metadata": {
  "kernelspec": {
   "display_name": "Python 3",
   "language": "python",
   "name": "python3"
  },
  "language_info": {
   "codemirror_mode": {
    "name": "ipython",
    "version": 3
   },
   "file_extension": ".py",
   "mimetype": "text/x-python",
   "name": "python",
   "nbconvert_exporter": "python",
   "pygments_lexer": "ipython3",
   "version": "3.6.3"
  }
 },
 "nbformat": 4,
 "nbformat_minor": 2
}
